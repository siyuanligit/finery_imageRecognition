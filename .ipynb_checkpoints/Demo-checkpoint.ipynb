{
 "cells": [
  {
   "cell_type": "markdown",
   "metadata": {},
   "source": [
    "# Finery Image Recognition/Classification\n",
    "\n",
    "This is the demo code for testing single image results."
   ]
  },
  {
   "cell_type": "markdown",
   "metadata": {},
   "source": [
    "## Import dependencies"
   ]
  },
  {
   "cell_type": "code",
   "execution_count": 1,
   "metadata": {},
   "outputs": [
    {
     "name": "stderr",
     "output_type": "stream",
     "text": [
      "Using TensorFlow backend.\n"
     ]
    }
   ],
   "source": [
    "import tensorflow as tf\n",
    "import keras\n",
    "import numpy as np\n",
    "\n",
    "from keras import backend as K\n",
    "from keras.preprocessing import image\n",
    "from keras.applications import resnet50\n",
    "from keras.applications.imagenet_utils import preprocess_input, decode_predictions\n",
    "from keras.layers import Dense,GlobalAveragePooling2D\n",
    "from keras.models import Model, load_model\n",
    "\n",
    "import labelDecode"
   ]
  },
  {
   "cell_type": "markdown",
   "metadata": {},
   "source": [
    "## Metrics needs to be re-defined"
   ]
  },
  {
   "cell_type": "code",
   "execution_count": 2,
   "metadata": {},
   "outputs": [],
   "source": [
    "def auc(y_true, y_pred):\n",
    "     auc = tf.metrics.auc(y_true, y_pred)[1]\n",
    "     K.get_session().run(tf.local_variables_initializer())\n",
    "     return auc\n",
    "    \n",
    "def f1(y_true, y_pred):\n",
    "     f1 = tf.contrib.metrics.f1_score(y_true, y_pred)[1]\n",
    "     K.get_session().run(tf.local_variables_initializer())\n",
    "     return f1\n",
    "    \n",
    "def top_1(x,y):\n",
    "    return keras.metrics.top_k_categorical_accuracy(x,y,k=1)\n",
    "\n",
    "def top_3(x,y):\n",
    "    return keras.metrics.top_k_categorical_accuracy(x,y,k=3)"
   ]
  },
  {
   "cell_type": "markdown",
   "metadata": {},
   "source": [
    "## Load the model from saved weights"
   ]
  },
  {
   "cell_type": "code",
   "execution_count": 3,
   "metadata": {},
   "outputs": [],
   "source": [
    "model = load_model('best_vgg.hdf5',\n",
    "                   custom_objects={'auc':auc,\n",
    "                                   'f1':f1,\n",
    "                                   'top_1':top_1,\n",
    "                                   'top_3':top_3})"
   ]
  },
  {
   "cell_type": "markdown",
   "metadata": {},
   "source": [
    "## Pre-process the image and predict using the model"
   ]
  },
  {
   "cell_type": "markdown",
   "metadata": {},
   "source": [
    "![#](img/blouse.jpg)"
   ]
  },
  {
   "cell_type": "code",
   "execution_count": 4,
   "metadata": {},
   "outputs": [
    {
     "name": "stdout",
     "output_type": "stream",
     "text": [
      "Tops : 41.75%\n",
      "Pants : 0.97%\n",
      "Skirts & Overalls : 5.29%\n",
      "Dresses : 44.26%\n",
      "Jackets : 0.78%\n",
      "Sportswear : 0.69%\n",
      "Underwear : 0.01%\n",
      "Shoes : 0.04%\n",
      "Bags : 0.16%\n",
      "Accessories : 0.82%\n",
      "Miscs & Lingeries : 5.16%\n",
      "Non-wardrobe : 0.04%\n"
     ]
    }
   ],
   "source": [
    "img_path = 'img/blouse.jpg'\n",
    "img = image.load_img(img_path, target_size=(224, 224))\n",
    "x = image.img_to_array(img)\n",
    "x = np.expand_dims(x, axis=0)\n",
    "x = preprocess_input(x)\n",
    "\n",
    "preds = model.predict(x)\n",
    "labelDecode.decodeScore(preds)"
   ]
  },
  {
   "cell_type": "markdown",
   "metadata": {},
   "source": [
    "![#](img/mug.jpg)"
   ]
  },
  {
   "cell_type": "code",
   "execution_count": 5,
   "metadata": {},
   "outputs": [
    {
     "name": "stdout",
     "output_type": "stream",
     "text": [
      "Tops : 0.04%\n",
      "Pants : 0.00%\n",
      "Skirts & Overalls : 0.00%\n",
      "Dresses : 0.00%\n",
      "Jackets : 0.00%\n",
      "Sportswear : 0.00%\n",
      "Underwear : 0.00%\n",
      "Shoes : 0.01%\n",
      "Bags : 3.45%\n",
      "Accessories : 0.99%\n",
      "Miscs & Lingeries : 0.00%\n",
      "Non-wardrobe : 95.50%\n"
     ]
    }
   ],
   "source": [
    "img_path = 'img/mug.jpg'\n",
    "img = image.load_img(img_path, target_size=(224, 224))\n",
    "x = image.img_to_array(img)\n",
    "x = np.expand_dims(x, axis=0)\n",
    "x = preprocess_input(x)\n",
    "\n",
    "preds = model.predict(x)\n",
    "labelDecode.decodeScore(preds)"
   ]
  },
  {
   "cell_type": "markdown",
   "metadata": {},
   "source": [
    "![#](img/insta.jpeg)"
   ]
  },
  {
   "cell_type": "code",
   "execution_count": 6,
   "metadata": {},
   "outputs": [
    {
     "name": "stdout",
     "output_type": "stream",
     "text": [
      "Tops : 26.80%\n",
      "Pants : 4.41%\n",
      "Skirts & Overalls : 0.19%\n",
      "Dresses : 1.89%\n",
      "Jackets : 23.02%\n",
      "Sportswear : 8.04%\n",
      "Underwear : 0.03%\n",
      "Shoes : 21.14%\n",
      "Bags : 5.57%\n",
      "Accessories : 2.31%\n",
      "Miscs & Lingeries : 0.45%\n",
      "Non-wardrobe : 6.14%\n"
     ]
    }
   ],
   "source": [
    "img_path = 'img/insta.jpeg'\n",
    "img = image.load_img(img_path, target_size=(224, 224))\n",
    "x = image.img_to_array(img)\n",
    "x = np.expand_dims(x, axis=0)\n",
    "x = preprocess_input(x)\n",
    "\n",
    "preds = model.predict(x)\n",
    "labelDecode.decodeScore(preds)"
   ]
  }
 ],
 "metadata": {
  "kernelspec": {
   "display_name": "Python 3",
   "language": "python",
   "name": "python3"
  },
  "language_info": {
   "codemirror_mode": {
    "name": "ipython",
    "version": 3
   },
   "file_extension": ".py",
   "mimetype": "text/x-python",
   "name": "python",
   "nbconvert_exporter": "python",
   "pygments_lexer": "ipython3",
   "version": "3.6.7"
  }
 },
 "nbformat": 4,
 "nbformat_minor": 2
}
